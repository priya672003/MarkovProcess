{
 "cells": [
  {
   "cell_type": "code",
   "execution_count": 1,
   "id": "1d58989c",
   "metadata": {},
   "outputs": [],
   "source": [
    "import numpy as np"
   ]
  },
  {
   "cell_type": "code",
   "execution_count": 2,
   "id": "474a114c",
   "metadata": {},
   "outputs": [],
   "source": [
    "P0=[0.3,0.2,0.5]"
   ]
  },
  {
   "cell_type": "code",
   "execution_count": 3,
   "id": "0311b670",
   "metadata": {},
   "outputs": [],
   "source": [
    "P=[[0,2/3,1/3],[1/2,0,1/2],[1/2,1/2,0]]"
   ]
  },
  {
   "cell_type": "code",
   "execution_count": 4,
   "id": "0118a8e7",
   "metadata": {},
   "outputs": [],
   "source": [
    "n=6"
   ]
  },
  {
   "cell_type": "code",
   "execution_count": 5,
   "id": "aef432ca",
   "metadata": {},
   "outputs": [
    {
     "name": "stdout",
     "output_type": "stream",
     "text": [
      "The 1 -step probability distribution is\n",
      "[[0.         0.13333333 0.16666667]\n",
      " [0.15       0.         0.25      ]\n",
      " [0.15       0.1        0.        ]]\n",
      "The 2 -step probability distribution is\n",
      "[[0.         0.08888889 0.05555556]\n",
      " [0.075      0.         0.125     ]\n",
      " [0.075      0.05       0.        ]]\n",
      "The 3 -step probability distribution is\n",
      "[[0.         0.05925926 0.01851852]\n",
      " [0.0375     0.         0.0625    ]\n",
      " [0.0375     0.025      0.        ]]\n",
      "The 4 -step probability distribution is\n",
      "[[0.         0.03950617 0.00617284]\n",
      " [0.01875    0.         0.03125   ]\n",
      " [0.01875    0.0125     0.        ]]\n",
      "The 5 -step probability distribution is\n",
      "[[0.         0.02633745 0.00205761]\n",
      " [0.009375   0.         0.015625  ]\n",
      " [0.009375   0.00625    0.        ]]\n",
      "The 6 -step probability distribution is\n",
      "[[0.         0.0175583  0.00068587]\n",
      " [0.0046875  0.         0.0078125 ]\n",
      " [0.0046875  0.003125   0.        ]]\n"
     ]
    }
   ],
   "source": [
    "for i in range(1,n+1):\n",
    "    P0=np.multiply(P0,P)\n",
    "    print(\"The %d -step probability distribution is\"%i)\n",
    "    print(P0)"
   ]
  },
  {
   "cell_type": "code",
   "execution_count": null,
   "id": "59f266dc",
   "metadata": {},
   "outputs": [],
   "source": []
  }
 ],
 "metadata": {
  "kernelspec": {
   "display_name": "Python 3 (ipykernel)",
   "language": "python",
   "name": "python3"
  },
  "language_info": {
   "codemirror_mode": {
    "name": "ipython",
    "version": 3
   },
   "file_extension": ".py",
   "mimetype": "text/x-python",
   "name": "python",
   "nbconvert_exporter": "python",
   "pygments_lexer": "ipython3",
   "version": "3.9.7"
  }
 },
 "nbformat": 4,
 "nbformat_minor": 5
}
